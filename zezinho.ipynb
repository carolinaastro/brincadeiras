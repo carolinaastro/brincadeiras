{
 "cells": [
  {
   "cell_type": "markdown",
   "metadata": {},
   "source": [
    "# Convergencia do Zerinho ou Um"
   ]
  },
  {
   "cell_type": "markdown",
   "metadata": {},
   "source": [
    "http://mapadobrincar.folha.com.br/brincadeiras/formulas-de-escolha/338-zero-ou-um\n",
    "\n",
    "Todos os participantes dizem \"zero ou um\" e colocam as mãos para a frente, mostrando um dedo ou nenhum.\n",
    "\n",
    "Se alguém colocar sozinho o um ou o zero, sai da brincadeira.\n",
    "\n",
    "O resto continua, até ficarem só dois participantes, que decidem a brincadeira no par ou ímpar.\n",
    "\n",
    "Pergunta: a medida que voce fica popular e conquista amigos, \n",
    "quantas jogadas sao necessarias para convergir o zerinho ou um (ou zezinho soltou um pum em algumas rodas de poucos amigos)"
   ]
  },
  {
   "cell_type": "code",
   "execution_count": 5,
   "metadata": {
    "collapsed": true
   },
   "outputs": [],
   "source": [
    "import numpy as np\n",
    "%matplotlib inline\n",
    "from matplotlib import pyplot as plt\n",
    "import pandas as pd"
   ]
  },
  {
   "cell_type": "code",
   "execution_count": 2,
   "metadata": {
    "collapsed": false
   },
   "outputs": [],
   "source": [
    "# grupo de amigos\n",
    "galera = np.arange(3,15)\n",
    "# guardar informacao de convergencia para cada grupo de amigos\n",
    "converge_galera = {}\n",
    "media_galera = {}\n",
    "desvio_galera = {}\n",
    "min_galera = {}\n",
    "max_galera = {}\n",
    "numero_interacoes = 50\n",
    "# testa convergencia para cada grupo de amigos\n",
    "for amigos in galera:\n",
    "    for interacao in xrange(numero_interacoes):\n",
    "        i = 0\n",
    "        while True:\n",
    "            # jogadas de zerinho ou um\n",
    "            zero_um = np.random.randint(0, 2, size=amigos)\n",
    "            #print i, zero_um\n",
    "            i += 1\n",
    "            # uma maneira de testar quem sai\n",
    "            if sum(zero_um) == 1 or sum(zero_um) == amigos-1:\n",
    "                #print i,'converge'\n",
    "                if converge_galera.has_key(amigos):\n",
    "                    converge_galera[amigos].append(i)\n",
    "                else:\n",
    "                    converge_galera[amigos] = [i]\n",
    "                break\n",
    "    media_galera[amigos] = int(np.mean(converge_galera[amigos]))\n",
    "    desvio_galera[amigos] = int(np.std(converge_galera[amigos]))\n",
    "    min_galera[amigos] = int(np.min(converge_galera[amigos]))\n",
    "    max_galera[amigos] = int(np.max(converge_galera[amigos]))\n"
   ]
  },
  {
   "cell_type": "code",
   "execution_count": 6,
   "metadata": {
    "collapsed": false
   },
   "outputs": [
    {
     "name": "stdout",
     "output_type": "stream",
     "text": [
      "{3: 1, 4: 2, 5: 2, 6: 5, 7: 8, 8: 12, 9: 23, 10: 47, 11: 85, 12: 182, 13: 292, 14: 645}\n",
      "{3: 0, 4: 1, 5: 2, 6: 5, 7: 7, 8: 12, 9: 23, 10: 51, 11: 65, 12: 190, 13: 233, 14: 608}\n",
      "{3: 1, 4: 1, 5: 1, 6: 1, 7: 1, 8: 1, 9: 1, 10: 1, 11: 1, 12: 1, 13: 22, 14: 8}\n",
      "{3: 4, 4: 7, 5: 13, 6: 21, 7: 37, 8: 50, 9: 135, 10: 230, 11: 256, 12: 788, 13: 938, 14: 2534}\n"
     ]
    }
   ],
   "source": [
    "print media_galera\n",
    "print desvio_galera\n",
    "print min_galera\n",
    "print max_galera"
   ]
  },
  {
   "cell_type": "code",
   "execution_count": 25,
   "metadata": {
    "collapsed": false
   },
   "outputs": [
    {
     "name": "stdout",
     "output_type": "stream",
     "text": [
      "Os valores médios são:\n"
     ]
    },
    {
     "data": {
      "text/plain": [
       "3       1\n",
       "4       2\n",
       "5       2\n",
       "6       5\n",
       "7       8\n",
       "8      12\n",
       "9      23\n",
       "10     47\n",
       "11     85\n",
       "12    182\n",
       "13    292\n",
       "14    645\n",
       "dtype: int64"
      ]
     },
     "execution_count": 25,
     "metadata": {},
     "output_type": "execute_result"
    }
   ],
   "source": [
    "##Ok, estamos vendo alguns valores importantes, porém, com o Pandas, esta visualização pode ser melhor:\n",
    "print 'Valores médios :'\n",
    "\n",
    "media_galera1= pd.Series(media_galera) \n",
    "media_galera1\n"
   ]
  },
  {
   "cell_type": "code",
   "execution_count": 26,
   "metadata": {
    "collapsed": false
   },
   "outputs": [
    {
     "name": "stdout",
     "output_type": "stream",
     "text": [
      "Desvio padrão :\n"
     ]
    },
    {
     "data": {
      "text/plain": [
       "3       0\n",
       "4       1\n",
       "5       2\n",
       "6       5\n",
       "7       7\n",
       "8      12\n",
       "9      23\n",
       "10     51\n",
       "11     65\n",
       "12    190\n",
       "13    233\n",
       "14    608\n",
       "dtype: int64"
      ]
     },
     "execution_count": 26,
     "metadata": {},
     "output_type": "execute_result"
    }
   ],
   "source": [
    "print 'Desvio padrão :'\n",
    "\n",
    "desvio_galera1 = pd.Series(desvio_galera)\n",
    "desvio_galera1"
   ]
  },
  {
   "cell_type": "code",
   "execution_count": 27,
   "metadata": {
    "collapsed": false
   },
   "outputs": [
    {
     "name": "stdout",
     "output_type": "stream",
     "text": [
      "Valores mínimos :\n"
     ]
    },
    {
     "data": {
      "text/plain": [
       "3      1\n",
       "4      1\n",
       "5      1\n",
       "6      1\n",
       "7      1\n",
       "8      1\n",
       "9      1\n",
       "10     1\n",
       "11     1\n",
       "12     1\n",
       "13    22\n",
       "14     8\n",
       "dtype: int64"
      ]
     },
     "execution_count": 27,
     "metadata": {},
     "output_type": "execute_result"
    }
   ],
   "source": [
    "print 'Valores mínimos :'\n",
    "\n",
    "min_galera1= pd.Series(min_galera) \n",
    "min_galera1"
   ]
  },
  {
   "cell_type": "code",
   "execution_count": 28,
   "metadata": {
    "collapsed": false
   },
   "outputs": [
    {
     "name": "stdout",
     "output_type": "stream",
     "text": [
      "Valores máximos :\n"
     ]
    },
    {
     "data": {
      "text/plain": [
       "3        4\n",
       "4        7\n",
       "5       13\n",
       "6       21\n",
       "7       37\n",
       "8       50\n",
       "9      135\n",
       "10     230\n",
       "11     256\n",
       "12     788\n",
       "13     938\n",
       "14    2534\n",
       "dtype: int64"
      ]
     },
     "execution_count": 28,
     "metadata": {},
     "output_type": "execute_result"
    }
   ],
   "source": [
    "print 'Valores máximos :'\n",
    "\n",
    "max_galera1 = pd.Series(max_galera)\n",
    "max_galera1"
   ]
  },
  {
   "cell_type": "code",
   "execution_count": 4,
   "metadata": {
    "collapsed": false
   },
   "outputs": [
    {
     "data": {
      "text/plain": [
       "<matplotlib.text.Text at 0x7fc43ce3a950>"
      ]
     },
     "execution_count": 4,
     "metadata": {},
     "output_type": "execute_result"
    },
    {
     "data": {
      "image/png": "[encoded data removed]",
      "text/plain": [
       "<matplotlib.figure.Figure at 0x7fc43ce8f790>"
      ]
     },
     "metadata": {},
     "output_type": "display_data"
    }
   ],
   "source": [
    "plt.plot(media_galera.keys(),media_galera.values(),'ko')\n",
    "plt.plot(min_galera.keys(),min_galera.values(),'b-')\n",
    "plt.plot(max_galera.keys(),max_galera.values(),'r-')\n",
    "\n",
    "plt.errorbar(media_galera.keys(),media_galera.values(), yerr=desvio_galera.values())\n",
    "plt.xlabel('Numero de Amigos')\n",
    "plt.ylabel('Numero de Jogadas')"
   ]
  },
  {
   "cell_type": "code",
   "execution_count": null,
   "metadata": {
    "collapsed": true
   },
   "outputs": [],
   "source": []
  }
 ],
 "metadata": {
  "kernelspec": {
   "display_name": "Python 2",
   "language": "python",
   "name": "python2"
  },
  "language_info": {
   "codemirror_mode": {
    "name": "ipython",
    "version": 2
   },
   "file_extension": ".py",
   "mimetype": "text/x-python",
   "name": "python",
   "nbconvert_exporter": "python",
   "pygments_lexer": "ipython2",
   "version": "2.7.6"
  }
 },
 "nbformat": 4,
 "nbformat_minor": 0
}
