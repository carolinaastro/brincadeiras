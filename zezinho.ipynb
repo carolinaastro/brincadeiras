{
 "cells": [
  {
   "cell_type": "markdown",
   "metadata": {},
   "source": [
    "# Convergencia do Zerinho ou Um"
   ]
  },
  {
   "cell_type": "markdown",
   "metadata": {},
   "source": [
    "http://mapadobrincar.folha.com.br/brincadeiras/formulas-de-escolha/338-zero-ou-um\n",
    "\n",
    "Todos os participantes dizem \"zero ou um\" e colocam as mãos para a frente, mostrando um dedo ou nenhum.\n",
    "\n",
    "Se alguém colocar sozinho o um ou o zero, sai da brincadeira.\n",
    "\n",
    "O resto continua, até ficarem só dois participantes, que decidem a brincadeira no par ou ímpar.\n",
    "\n",
    "Pergunta: a medida que voce fica popular e conquista amigos, \n",
    "quantas jogadas sao necessarias para convergir o zerinho ou um (ou zezinho soltou um pum em algumas rodas de poucos amigos)"
   ]
  },
  {
   "cell_type": "code",
   "execution_count": 54,
   "metadata": {
    "collapsed": true
   },
   "outputs": [],
   "source": [
    "import numpy as np\n",
    "%matplotlib inline\n",
    "from matplotlib import pyplot as plt"
   ]
  },
  {
   "cell_type": "code",
   "execution_count": 55,
   "metadata": {
    "collapsed": false
   },
   "outputs": [],
   "source": [
    "# grupo de amigos\n",
    "galera = np.arange(3,20)\n",
    "# guardar informacao de convergencia para cada grupo de amigos\n",
    "converge_galera = {}\n",
    "media_galera = {}\n",
    "desvio_galera = {}\n",
    "min_galera = {}\n",
    "max_galera = {}\n",
    "numero_interacoes = 200\n",
    "# testa convergencia para cada grupo de amigos\n",
    "for amigos in galera:\n",
    "    for interacao in xrange(numero_interacoes):\n",
    "        i = 0\n",
    "        while True:\n",
    "            # jogadas de zerinho ou um\n",
    "            zero_um = np.random.randint(0, 2, size=amigos)\n",
    "            #print i, zero_um\n",
    "            i += 1\n",
    "            # uma maneira de testar quem sai\n",
    "            if sum(zero_um) == 1 or sum(zero_um) == amigos-1:\n",
    "                #print i,'converge'\n",
    "                if converge_galera.has_key(amigos):\n",
    "                    converge_galera[amigos].append(i)\n",
    "                else:\n",
    "                    converge_galera[amigos] = [i]\n",
    "                break\n",
    "    media_galera[amigos] = int(np.mean(converge_galera[amigos]))\n",
    "    desvio_galera[amigos] = int(np.std(converge_galera[amigos]))\n",
    "    min_galera[amigos] = int(np.min(converge_galera[amigos]))\n",
    "    max_galera[amigos] = int(np.max(converge_galera[amigos]))\n",
    "\n"
   ]
  },
  {
   "cell_type": "code",
   "execution_count": 56,
   "metadata": {
    "collapsed": false
   },
   "outputs": [
    {
     "name": "stdout",
     "output_type": "stream",
     "text": [
      "{3: 1, 4: 2, 5: 2, 6: 5, 7: 8, 8: 16, 9: 28, 10: 55, 11: 93, 12: 168, 13: 303, 14: 589, 15: 1155, 16: 1891, 17: 3834, 18: 7706, 19: 13603}\n",
      "{3: 0, 4: 1, 5: 2, 6: 4, 7: 8, 8: 16, 9: 30, 10: 48, 11: 78, 12: 177, 13: 256, 14: 579, 15: 1191, 16: 1854, 17: 3711, 18: 8521, 19: 14889}\n",
      "{3: 1, 4: 1, 5: 1, 6: 1, 7: 1, 8: 1, 9: 1, 10: 1, 11: 1, 12: 1, 13: 1, 14: 4, 15: 1, 16: 1, 17: 45, 18: 62, 19: 13}\n",
      "{3: 4, 4: 8, 5: 14, 6: 22, 7: 46, 8: 101, 9: 157, 10: 256, 11: 385, 12: 1168, 13: 1192, 14: 3986, 15: 8602, 16: 12006, 17: 19657, 18: 52173, 19: 98072}\n"
     ]
    }
   ],
   "source": [
    "print media_galera\n",
    "print desvio_galera\n",
    "print min_galera\n",
    "print max_galera"
   ]
  },
  {
   "cell_type": "code",
   "execution_count": 57,
   "metadata": {
    "collapsed": false
   },
   "outputs": [
    {
     "data": {
      "text/plain": [
       "<matplotlib.text.Text at 0x112449ad0>"
      ]
     },
     "execution_count": 57,
     "metadata": {},
     "output_type": "execute_result"
    },
    {
     "data": {
      "image/png": "[encoded data removed]",
      "text/plain": [
       "<matplotlib.figure.Figure at 0x111e6f450>"
      ]
     },
     "metadata": {},
     "output_type": "display_data"
    }
   ],
   "source": [
    "plt.plot(media_galera.keys(),media_galera.values(),'ko')\n",
    "plt.plot(min_galera.keys(),min_galera.values(),'b-')\n",
    "plt.plot(max_galera.keys(),max_galera.values(),'r-')\n",
    "\n",
    "plt.errorbar(media_galera.keys(),media_galera.values(), yerr=desvio_galera.values())\n",
    "plt.xlabel('Numero de Amigos')\n",
    "plt.ylabel('Numero de Jogadas')"
   ]
  },
  {
   "cell_type": "code",
   "execution_count": null,
   "metadata": {
    "collapsed": true
   },
   "outputs": [],
   "source": []
  }
 ],
 "metadata": {
  "kernelspec": {
   "display_name": "Python 2",
   "language": "python",
   "name": "python2"
  },
  "language_info": {
   "codemirror_mode": {
    "name": "ipython",
    "version": 2
   },
   "file_extension": ".py",
   "mimetype": "text/x-python",
   "name": "python",
   "nbconvert_exporter": "python",
   "pygments_lexer": "ipython2",
   "version": "2.7.11"
  }
 },
 "nbformat": 4,
 "nbformat_minor": 0
}
